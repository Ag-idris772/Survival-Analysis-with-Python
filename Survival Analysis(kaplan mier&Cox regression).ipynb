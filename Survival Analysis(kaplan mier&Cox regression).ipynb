{
 "cells": [
  {
   "attachments": {},
   "cell_type": "markdown",
   "id": "7f056559",
   "metadata": {},
   "source": [
    "# Understanding Customer attrition through Survival Analysis (Kaplan Meier & Cox Regression on) "
   ]
  },
  {
   "attachments": {},
   "cell_type": "markdown",
   "id": "f6b3b014",
   "metadata": {},
   "source": [
    "Survival analysis is a statistical technique used to analyze the time until the occurrence of an event of interest. It is commonly applied in medical research to study patient survival times but has found applications in various fields, including business analytics, where it is used to understand customer churn, also known as customer survival analysis. Two primary methods within survival analysis are Kaplan-Meier estimation and Cox proportional hazards regression, both of which are frequently employed in studying customer churn"
   ]
  },
  {
   "cell_type": "markdown",
   "id": "caaa7cfe",
   "metadata": {},
   "source": [
    "In this project we will be making use of microsoft's adventureworks 2022 database (https://learn.microsoft.com/en-us/sql/samples/adventureworks-install-configure?view=sql-server-ver16) to predict how long it takes for customers to churn and what exactly is responsible for this churn. We will also be making use of an imaginary company which sells primarily 3 types of products namely accessories, bikes and clothes. Let's Begin!"
   ]
  },
  {
   "cell_type": "markdown",
   "id": "df1fe9c8",
   "metadata": {},
   "source": [
    "# Imports"
   ]
  },
  {
   "cell_type": "code",
   "execution_count": 2,
   "id": "76f1c797",
   "metadata": {},
   "outputs": [],
   "source": [
    "import pandas as pd\n",
    "import numpy as np\n",
    "import pyodbc\n",
    "import seaborn as sns\n",
    "import matplotlib.pyplot as plt\n",
    "import scipy\n",
    "from scipy.stats import spearmanr\n",
    "from scipy.stats import chi2_contingency\n",
    "from sklearn.model_selection import train_test_split,GridSearchCV\n",
    "from sklearn.linear_model import LogisticRegression, LinearRegression\n",
    "from sklearn.preprocessing import LabelEncoder, OneHotEncoder, StandardScaler\n",
    "from sklearn.metrics import f1_score,accuracy_score, roc_auc_score, ConfusionMatrixDisplay, confusion_matrix, precision_score, recall_score, classification_report\n",
    "from sklearn.pipeline import FeatureUnion, make_pipeline\n",
    "import pandas as pd\n",
    "import matplotlib.pyplot as plt\n",
    "import seaborn as sns\n",
    "from lifelines import KaplanMeierFitter, CoxPHFitter \n",
    "import warnings\n",
    "warnings.filterwarnings('ignore')"
   ]
  },
  {
   "cell_type": "code",
   "execution_count": 2,
   "id": "193cb900",
   "metadata": {},
   "outputs": [],
   "source": [
    "#SQL Imports\n",
    "#This chunk of code below queries in the CustomerID, ProductID, Product Category, Product subcategory and SalesOrderID \n",
    "#all of this is information relating to the products sold by the company\n",
    "\n",
    "conn = pyodbc.connect('DRIVER={SQL Server};'\n",
    "                      'SERVER=LAPTOP-TFH5SEUP;'\n",
    "                      'DATABASE=AdventureWorks2022;'\n",
    "                     'Trusted_Connection=yes;')\n",
    "\n",
    "sql_for_df1 = \"\"\"SELECT\n",
    "SC.[CustomerID],\n",
    "PP.ProductID,\n",
    "PC.[Name] AS [Product Category],\n",
    "PS.[Name] AS [Product Subcategory],\n",
    "SH.[SalesOrderID]\n",
    "FROM [Sales].[SalesOrderHeader] SH\n",
    "LEFT JOIN [Sales].[Customer] SC ON SH.CustomerID = SC.[CustomerID]\n",
    "LEFT JOIN [Sales].[SalesOrderDetail] SS ON SS.SalesOrderID = SH.SalesOrderID\n",
    "LEFT JOIN [Production].[Product] PP ON PP.ProductID = SS.ProductID\n",
    "LEFT JOIN [Production].[ProductSubcategory] PS ON PS.[ProductSubcategoryID] = PP.ProductSubcategoryID\n",
    "LEFT JOIN [Production].[ProductCategory] PC ON PC. [ProductCategoryID] = PS.ProductCategoryID\n",
    "\"\"\"\n",
    "\n",
    "category = pd.read_sql(sql_for_df1, conn)\n",
    "\n",
    "conn.close()"
   ]
  },
  {
   "cell_type": "code",
   "execution_count": 3,
   "id": "59403958",
   "metadata": {},
   "outputs": [
    {
     "data": {
      "text/html": [
       "<div>\n",
       "<style scoped>\n",
       "    .dataframe tbody tr th:only-of-type {\n",
       "        vertical-align: middle;\n",
       "    }\n",
       "\n",
       "    .dataframe tbody tr th {\n",
       "        vertical-align: top;\n",
       "    }\n",
       "\n",
       "    .dataframe thead th {\n",
       "        text-align: right;\n",
       "    }\n",
       "</style>\n",
       "<table border=\"1\" class=\"dataframe\">\n",
       "  <thead>\n",
       "    <tr style=\"text-align: right;\">\n",
       "      <th></th>\n",
       "      <th>CustomerID</th>\n",
       "      <th>ProductID</th>\n",
       "      <th>Product Category</th>\n",
       "      <th>Product Subcategory</th>\n",
       "      <th>SalesOrderID</th>\n",
       "    </tr>\n",
       "  </thead>\n",
       "  <tbody>\n",
       "    <tr>\n",
       "      <th>0</th>\n",
       "      <td>29580</td>\n",
       "      <td>707</td>\n",
       "      <td>Accessories</td>\n",
       "      <td>Helmets</td>\n",
       "      <td>43665</td>\n",
       "    </tr>\n",
       "    <tr>\n",
       "      <th>1</th>\n",
       "      <td>29614</td>\n",
       "      <td>707</td>\n",
       "      <td>Accessories</td>\n",
       "      <td>Helmets</td>\n",
       "      <td>43668</td>\n",
       "    </tr>\n",
       "    <tr>\n",
       "      <th>2</th>\n",
       "      <td>29844</td>\n",
       "      <td>707</td>\n",
       "      <td>Accessories</td>\n",
       "      <td>Helmets</td>\n",
       "      <td>43673</td>\n",
       "    </tr>\n",
       "    <tr>\n",
       "      <th>3</th>\n",
       "      <td>29824</td>\n",
       "      <td>707</td>\n",
       "      <td>Accessories</td>\n",
       "      <td>Helmets</td>\n",
       "      <td>43677</td>\n",
       "    </tr>\n",
       "    <tr>\n",
       "      <th>4</th>\n",
       "      <td>29889</td>\n",
       "      <td>707</td>\n",
       "      <td>Accessories</td>\n",
       "      <td>Helmets</td>\n",
       "      <td>43678</td>\n",
       "    </tr>\n",
       "  </tbody>\n",
       "</table>\n",
       "</div>"
      ],
      "text/plain": [
       "   CustomerID  ProductID Product Category Product Subcategory  SalesOrderID\n",
       "0       29580        707      Accessories             Helmets         43665\n",
       "1       29614        707      Accessories             Helmets         43668\n",
       "2       29844        707      Accessories             Helmets         43673\n",
       "3       29824        707      Accessories             Helmets         43677\n",
       "4       29889        707      Accessories             Helmets         43678"
      ]
     },
     "execution_count": 3,
     "metadata": {},
     "output_type": "execute_result"
    }
   ],
   "source": [
    "category.head()"
   ]
  },
  {
   "cell_type": "code",
   "execution_count": 4,
   "id": "779d06cf",
   "metadata": {},
   "outputs": [],
   "source": [
    "#This chunk of code below queries in the CustomerID, orderDate, ShipDate Unit Price, Total Due, Line Total, region \n",
    "#all of this is information relating to the company's product sales\n",
    "\n",
    "conn = pyodbc.connect('DRIVER={SQL Server};'\n",
    "                      'SERVER=LAPTOP-TFH5SEUP;'\n",
    "                      'DATABASE=AdventureWorks2022;'\n",
    "                     'Trusted_Connection=yes;')\n",
    "\n",
    "sql_for_df1 = \"\"\"select soh.customerID,soh.OrderDate,soh.ShipDate,sod.UnitPrice, soh.TotalDue, sod.LineTotal\n",
    ", st.Name as region  from\n",
    "Sales.SalesOrderDetail as sod\n",
    "join Sales.SalesOrderHeader as soh \n",
    "on sod.SalesOrderID=soh.SalesOrderID\n",
    "join Production.Product as p\n",
    "on sod.ProductID=p.ProductID\n",
    "INNER JOIN Sales.SalesTerritory AS St\n",
    "    ON Soh.[TerritoryID] = St.[TerritoryID]\n",
    "\"\"\"\n",
    "\n",
    "sales = pd.read_sql(sql_for_df1, conn)\n",
    "\n",
    "conn.close()"
   ]
  },
  {
   "cell_type": "code",
   "execution_count": 5,
   "id": "a268be81",
   "metadata": {},
   "outputs": [
    {
     "data": {
      "text/html": [
       "<div>\n",
       "<style scoped>\n",
       "    .dataframe tbody tr th:only-of-type {\n",
       "        vertical-align: middle;\n",
       "    }\n",
       "\n",
       "    .dataframe tbody tr th {\n",
       "        vertical-align: top;\n",
       "    }\n",
       "\n",
       "    .dataframe thead th {\n",
       "        text-align: right;\n",
       "    }\n",
       "</style>\n",
       "<table border=\"1\" class=\"dataframe\">\n",
       "  <thead>\n",
       "    <tr style=\"text-align: right;\">\n",
       "      <th></th>\n",
       "      <th>customerID</th>\n",
       "      <th>OrderDate</th>\n",
       "      <th>ShipDate</th>\n",
       "      <th>UnitPrice</th>\n",
       "      <th>TotalDue</th>\n",
       "      <th>LineTotal</th>\n",
       "      <th>region</th>\n",
       "    </tr>\n",
       "  </thead>\n",
       "  <tbody>\n",
       "    <tr>\n",
       "      <th>0</th>\n",
       "      <td>29825</td>\n",
       "      <td>2011-05-31</td>\n",
       "      <td>2011-06-07</td>\n",
       "      <td>2024.994</td>\n",
       "      <td>23153.2339</td>\n",
       "      <td>2024.994</td>\n",
       "      <td>Southeast</td>\n",
       "    </tr>\n",
       "    <tr>\n",
       "      <th>1</th>\n",
       "      <td>29825</td>\n",
       "      <td>2011-05-31</td>\n",
       "      <td>2011-06-07</td>\n",
       "      <td>2024.994</td>\n",
       "      <td>23153.2339</td>\n",
       "      <td>6074.982</td>\n",
       "      <td>Southeast</td>\n",
       "    </tr>\n",
       "    <tr>\n",
       "      <th>2</th>\n",
       "      <td>29825</td>\n",
       "      <td>2011-05-31</td>\n",
       "      <td>2011-06-07</td>\n",
       "      <td>2024.994</td>\n",
       "      <td>23153.2339</td>\n",
       "      <td>2024.994</td>\n",
       "      <td>Southeast</td>\n",
       "    </tr>\n",
       "    <tr>\n",
       "      <th>3</th>\n",
       "      <td>29825</td>\n",
       "      <td>2011-05-31</td>\n",
       "      <td>2011-06-07</td>\n",
       "      <td>2039.994</td>\n",
       "      <td>23153.2339</td>\n",
       "      <td>2039.994</td>\n",
       "      <td>Southeast</td>\n",
       "    </tr>\n",
       "    <tr>\n",
       "      <th>4</th>\n",
       "      <td>29825</td>\n",
       "      <td>2011-05-31</td>\n",
       "      <td>2011-06-07</td>\n",
       "      <td>2039.994</td>\n",
       "      <td>23153.2339</td>\n",
       "      <td>2039.994</td>\n",
       "      <td>Southeast</td>\n",
       "    </tr>\n",
       "  </tbody>\n",
       "</table>\n",
       "</div>"
      ],
      "text/plain": [
       "   customerID  OrderDate   ShipDate  UnitPrice    TotalDue  LineTotal  \\\n",
       "0       29825 2011-05-31 2011-06-07   2024.994  23153.2339   2024.994   \n",
       "1       29825 2011-05-31 2011-06-07   2024.994  23153.2339   6074.982   \n",
       "2       29825 2011-05-31 2011-06-07   2024.994  23153.2339   2024.994   \n",
       "3       29825 2011-05-31 2011-06-07   2039.994  23153.2339   2039.994   \n",
       "4       29825 2011-05-31 2011-06-07   2039.994  23153.2339   2039.994   \n",
       "\n",
       "      region  \n",
       "0  Southeast  \n",
       "1  Southeast  \n",
       "2  Southeast  \n",
       "3  Southeast  \n",
       "4  Southeast  "
      ]
     },
     "execution_count": 5,
     "metadata": {},
     "output_type": "execute_result"
    }
   ],
   "source": [
    "sales.head()"
   ]
  },
  {
   "cell_type": "code",
   "execution_count": 6,
   "id": "a497caa0",
   "metadata": {},
   "outputs": [],
   "source": [
    "# This chunk of code below queries in the BirthDate, MaritalStatus Gender, Number of children at home, postal code, \n",
    "# total children, education , occupation, house owner, customer key, no of cars owned, Yearly income \n",
    "# all of this is information relating customer's personal information\n",
    "\n",
    "conn = pyodbc.connect('DRIVER={SQL Server};'\n",
    "                      'SERVER=LAPTOP-TFH5SEUP;'\n",
    "                      'DATABASE=AdventureWorksDW2022;'\n",
    "                     'Trusted_Connection=yes;')\n",
    "\n",
    "sql_for_df1 = \"\"\"SELECT  [BirthDate],\n",
    "[MaritalStatus],\n",
    "[YearlyIncome],\n",
    "[Gender],[NumberChildrenAtHome], dg.PostalCode, \n",
    "dc.[TotalChildren],\n",
    "[EnglishEducation],[EnglishOccupation],\n",
    "[HouseOwnerFlag],[CustomerKey],\n",
    "[NumberCarsOwned] \n",
    "FROM [dbo].[DimCustomer] as dc\n",
    "Join [dbo].[DimGeography] as dg\n",
    "on dc.[GeographyKey] = dg.GeographyKey\n",
    "\"\"\"\n",
    "\n",
    "data = pd.read_sql(sql_for_df1, conn)\n",
    "\n",
    "conn.close()"
   ]
  },
  {
   "cell_type": "code",
   "execution_count": 7,
   "id": "9626152c",
   "metadata": {},
   "outputs": [
    {
     "data": {
      "text/html": [
       "<div>\n",
       "<style scoped>\n",
       "    .dataframe tbody tr th:only-of-type {\n",
       "        vertical-align: middle;\n",
       "    }\n",
       "\n",
       "    .dataframe tbody tr th {\n",
       "        vertical-align: top;\n",
       "    }\n",
       "\n",
       "    .dataframe thead th {\n",
       "        text-align: right;\n",
       "    }\n",
       "</style>\n",
       "<table border=\"1\" class=\"dataframe\">\n",
       "  <thead>\n",
       "    <tr style=\"text-align: right;\">\n",
       "      <th></th>\n",
       "      <th>BirthDate</th>\n",
       "      <th>MaritalStatus</th>\n",
       "      <th>YearlyIncome</th>\n",
       "      <th>Gender</th>\n",
       "      <th>NumberChildrenAtHome</th>\n",
       "      <th>PostalCode</th>\n",
       "      <th>TotalChildren</th>\n",
       "      <th>EnglishEducation</th>\n",
       "      <th>EnglishOccupation</th>\n",
       "      <th>HouseOwnerFlag</th>\n",
       "      <th>CustomerKey</th>\n",
       "      <th>NumberCarsOwned</th>\n",
       "    </tr>\n",
       "  </thead>\n",
       "  <tbody>\n",
       "    <tr>\n",
       "      <th>0</th>\n",
       "      <td>1971-10-06</td>\n",
       "      <td>M</td>\n",
       "      <td>90000.0</td>\n",
       "      <td>M</td>\n",
       "      <td>0</td>\n",
       "      <td>4700</td>\n",
       "      <td>2</td>\n",
       "      <td>Bachelors</td>\n",
       "      <td>Professional</td>\n",
       "      <td>1</td>\n",
       "      <td>11000</td>\n",
       "      <td>0</td>\n",
       "    </tr>\n",
       "    <tr>\n",
       "      <th>1</th>\n",
       "      <td>1976-05-10</td>\n",
       "      <td>S</td>\n",
       "      <td>60000.0</td>\n",
       "      <td>M</td>\n",
       "      <td>3</td>\n",
       "      <td>3198</td>\n",
       "      <td>3</td>\n",
       "      <td>Bachelors</td>\n",
       "      <td>Professional</td>\n",
       "      <td>0</td>\n",
       "      <td>11001</td>\n",
       "      <td>1</td>\n",
       "    </tr>\n",
       "    <tr>\n",
       "      <th>2</th>\n",
       "      <td>1971-02-09</td>\n",
       "      <td>M</td>\n",
       "      <td>60000.0</td>\n",
       "      <td>M</td>\n",
       "      <td>3</td>\n",
       "      <td>7001</td>\n",
       "      <td>3</td>\n",
       "      <td>Bachelors</td>\n",
       "      <td>Professional</td>\n",
       "      <td>1</td>\n",
       "      <td>11002</td>\n",
       "      <td>1</td>\n",
       "    </tr>\n",
       "    <tr>\n",
       "      <th>3</th>\n",
       "      <td>1973-08-14</td>\n",
       "      <td>S</td>\n",
       "      <td>70000.0</td>\n",
       "      <td>F</td>\n",
       "      <td>0</td>\n",
       "      <td>2113</td>\n",
       "      <td>0</td>\n",
       "      <td>Bachelors</td>\n",
       "      <td>Professional</td>\n",
       "      <td>0</td>\n",
       "      <td>11003</td>\n",
       "      <td>1</td>\n",
       "    </tr>\n",
       "    <tr>\n",
       "      <th>4</th>\n",
       "      <td>1979-08-05</td>\n",
       "      <td>S</td>\n",
       "      <td>80000.0</td>\n",
       "      <td>F</td>\n",
       "      <td>5</td>\n",
       "      <td>2500</td>\n",
       "      <td>5</td>\n",
       "      <td>Bachelors</td>\n",
       "      <td>Professional</td>\n",
       "      <td>1</td>\n",
       "      <td>11004</td>\n",
       "      <td>4</td>\n",
       "    </tr>\n",
       "  </tbody>\n",
       "</table>\n",
       "</div>"
      ],
      "text/plain": [
       "    BirthDate MaritalStatus  YearlyIncome Gender  NumberChildrenAtHome  \\\n",
       "0  1971-10-06             M       90000.0      M                     0   \n",
       "1  1976-05-10             S       60000.0      M                     3   \n",
       "2  1971-02-09             M       60000.0      M                     3   \n",
       "3  1973-08-14             S       70000.0      F                     0   \n",
       "4  1979-08-05             S       80000.0      F                     5   \n",
       "\n",
       "  PostalCode  TotalChildren EnglishEducation EnglishOccupation HouseOwnerFlag  \\\n",
       "0       4700              2        Bachelors      Professional              1   \n",
       "1       3198              3        Bachelors      Professional              0   \n",
       "2       7001              3        Bachelors      Professional              1   \n",
       "3       2113              0        Bachelors      Professional              0   \n",
       "4       2500              5        Bachelors      Professional              1   \n",
       "\n",
       "   CustomerKey  NumberCarsOwned  \n",
       "0        11000                0  \n",
       "1        11001                1  \n",
       "2        11002                1  \n",
       "3        11003                1  \n",
       "4        11004                4  "
      ]
     },
     "execution_count": 7,
     "metadata": {},
     "output_type": "execute_result"
    }
   ],
   "source": [
    "data.head()"
   ]
  },
  {
   "cell_type": "markdown",
   "id": "799c0fcc",
   "metadata": {},
   "source": [
    "# Section 1: Data Modeling"
   ]
  },
  {
   "cell_type": "code",
   "execution_count": 8,
   "id": "e459e78f",
   "metadata": {},
   "outputs": [],
   "source": [
    "#We begin by renaming the customer ID columns in the dataframes called category and data. These two columns have the same \n",
    "#information but different column names which would pose an issue when we try to merge these columns\n",
    "\n",
    "category.rename(columns={'CustomerID':'customerID'},inplace=True)\n",
    "data.rename(columns={'CustomerKey' : 'customerID'},inplace=True)"
   ]
  },
  {
   "cell_type": "code",
   "execution_count": 9,
   "id": "5068e3b6",
   "metadata": {},
   "outputs": [],
   "source": [
    "#Next we merge the tables we imported from sql. Note: we merged them seperately, first in a variable named\n",
    "#dt and then in a variable named df. This is because you can't merge more than 2 dataframes at once in python\n",
    "\n",
    "dt = pd.merge(sales,data,how='inner',on='customerID')\n",
    "df = pd.merge(category,dt,how='inner',on='customerID')"
   ]
  },
  {
   "cell_type": "code",
   "execution_count": 12,
   "id": "2cf7847f",
   "metadata": {},
   "outputs": [
    {
     "name": "stdout",
     "output_type": "stream",
     "text": [
      "<class 'pandas.core.frame.DataFrame'>\n",
      "RangeIndex: 324320 entries, 0 to 324319\n",
      "Data columns (total 22 columns):\n",
      " #   Column                Non-Null Count   Dtype         \n",
      "---  ------                --------------   -----         \n",
      " 0   customerID            324320 non-null  int64         \n",
      " 1   ProductID             324320 non-null  int64         \n",
      " 2   Product Category      324320 non-null  object        \n",
      " 3   Product Subcategory   324320 non-null  object        \n",
      " 4   SalesOrderID          324320 non-null  int64         \n",
      " 5   OrderDate             324320 non-null  datetime64[ns]\n",
      " 6   ShipDate              324320 non-null  datetime64[ns]\n",
      " 7   UnitPrice             324320 non-null  float64       \n",
      " 8   TotalDue              324320 non-null  float64       \n",
      " 9   LineTotal             324320 non-null  float64       \n",
      " 10  region                324320 non-null  object        \n",
      " 11  BirthDate             324320 non-null  object        \n",
      " 12  MaritalStatus         324320 non-null  object        \n",
      " 13  YearlyIncome          324320 non-null  float64       \n",
      " 14  Gender                324320 non-null  object        \n",
      " 15  NumberChildrenAtHome  324320 non-null  int64         \n",
      " 16  PostalCode            324320 non-null  object        \n",
      " 17  TotalChildren         324320 non-null  int64         \n",
      " 18  EnglishEducation      324320 non-null  object        \n",
      " 19  EnglishOccupation     324320 non-null  object        \n",
      " 20  HouseOwnerFlag        324320 non-null  object        \n",
      " 21  NumberCarsOwned       324320 non-null  int64         \n",
      "dtypes: datetime64[ns](2), float64(4), int64(6), object(10)\n",
      "memory usage: 54.4+ MB\n"
     ]
    }
   ],
   "source": [
    "df.info()"
   ]
  },
  {
   "cell_type": "code",
   "execution_count": 13,
   "id": "35aee090",
   "metadata": {},
   "outputs": [],
   "source": [
    "#Next we rename some columns for more clarity\n",
    "\n",
    "df.rename(columns={'EnglishEducation':'Education','EnglishOccupation':'Occupation'},inplace=True)"
   ]
  },
  {
   "cell_type": "code",
   "execution_count": 14,
   "id": "6b5b169e",
   "metadata": {},
   "outputs": [],
   "source": [
    "#Here we use the customer's birthdate and orderdate to calculate their Age at the time of purchase\n",
    "df['BirthDate']= df['BirthDate'].astype('datetime64[ns]')\n",
    "df['Age']= df['OrderDate'].dt.year-df['BirthDate'].dt.year"
   ]
  },
  {
   "cell_type": "code",
   "execution_count": 15,
   "id": "bd64bb90",
   "metadata": {},
   "outputs": [],
   "source": [
    "#Now we begin to encode the categorical variables notice how we use nominal encoding for some columns\n",
    "#without any inherent order and ordinal encoding for those with an obvious inherent order like occupation or profession\n",
    "\n",
    "df['MaritalStatus']=pd.get_dummies(df['MaritalStatus'],drop_first=True,dtype='int')\n",
    "\n",
    "df['Gender']=pd.get_dummies(df['Gender'],drop_first=True,dtype='int')\n",
    "\n",
    "df['Education']=df['Education'].replace({'Bachelors':4, 'Partial College':3, 'High School':2,\n",
    "       'Partial High School':1, 'Graduate Degree':5, 'None':0})\n",
    "\n",
    "df['Occupation']=df['Occupation'].replace({'Professional':5, 'Management':4, 'Skilled Manual':3, 'Clerical':2,\n",
    "       'Manual':1, 'None':0})\n",
    "\n",
    "df['HouseOwnerFlag']=df['HouseOwnerFlag'].astype('int')"
   ]
  },
  {
   "cell_type": "code",
   "execution_count": 16,
   "id": "499e1fb4",
   "metadata": {},
   "outputs": [],
   "source": [
    "#Finally, we drop the region columns as it will be of no use\n",
    "df = df.drop('region',axis=1)"
   ]
  },
  {
   "cell_type": "markdown",
   "id": "369554cb",
   "metadata": {},
   "source": [
    "# Section 2: Preparing the Kaplan-Meier Curve\n",
    "​\n",
    "The Kaplan-Meier Curve represents a simple non-parametric visualization of survival likelihood function in our data. In that sense, it can be thought of as part of the EDA process for survival analysis. Let's start by fitting a simple Kaplan-Meier Curve on our data."
   ]
  },
  {
   "cell_type": "code",
   "execution_count": 17,
   "id": "cb9fe04b",
   "metadata": {},
   "outputs": [
    {
     "name": "stdout",
     "output_type": "stream",
     "text": [
      "       customerID  OrderDate   ShipDate\n",
      "0           11000 2011-06-21 2013-10-10\n",
      "1           11001 2011-06-17 2014-05-19\n",
      "2           11002 2011-06-09 2013-08-02\n",
      "3           11003 2011-05-31 2013-10-17\n",
      "4           11004 2011-06-25 2013-10-08\n",
      "...           ...        ...        ...\n",
      "19114       30114 2012-05-30 2014-03-08\n",
      "19115       30115 2012-06-30 2014-04-07\n",
      "19116       30116 2013-05-30 2014-03-08\n",
      "19117       30117 2011-07-01 2014-04-07\n",
      "19118       30118 2012-07-31 2014-05-08\n",
      "\n",
      "[19119 rows x 3 columns]\n"
     ]
    }
   ],
   "source": [
    "# we begin by saving our sales dataframe (because it is the dataframe containing the order date)\n",
    "# in a variable called data with columns 'order_date', 'delivery_date', and 'customer_id'\n",
    "data = pd.DataFrame(sales)\n",
    "\n",
    "# Convert date columns to datetime objects\n",
    "data['OrderDate'] = pd.to_datetime(data['OrderDate'])\n",
    "data['ShipDate'] = pd.to_datetime(data['ShipDate'])\n",
    "\n",
    "# Sort DataFrame by order_date\n",
    "data.sort_values(by='OrderDate', inplace=True)\n",
    "\n",
    "# Group by customer_id and get the first and last interaction dates\n",
    "result = data.groupby('customerID').agg({'OrderDate': 'first', 'ShipDate': 'last'}).reset_index()\n",
    "\n",
    "print(result)"
   ]
  },
  {
   "cell_type": "code",
   "execution_count": 18,
   "id": "0d8d654e",
   "metadata": {},
   "outputs": [
    {
     "data": {
      "text/html": [
       "<div>\n",
       "<style scoped>\n",
       "    .dataframe tbody tr th:only-of-type {\n",
       "        vertical-align: middle;\n",
       "    }\n",
       "\n",
       "    .dataframe tbody tr th {\n",
       "        vertical-align: top;\n",
       "    }\n",
       "\n",
       "    .dataframe thead th {\n",
       "        text-align: right;\n",
       "    }\n",
       "</style>\n",
       "<table border=\"1\" class=\"dataframe\">\n",
       "  <thead>\n",
       "    <tr style=\"text-align: right;\">\n",
       "      <th></th>\n",
       "      <th>customerID</th>\n",
       "      <th>OrderDate</th>\n",
       "      <th>ShipDate</th>\n",
       "    </tr>\n",
       "  </thead>\n",
       "  <tbody>\n",
       "    <tr>\n",
       "      <th>0</th>\n",
       "      <td>11000</td>\n",
       "      <td>2011-06-21</td>\n",
       "      <td>2013-10-10</td>\n",
       "    </tr>\n",
       "    <tr>\n",
       "      <th>1</th>\n",
       "      <td>11001</td>\n",
       "      <td>2011-06-17</td>\n",
       "      <td>2014-05-19</td>\n",
       "    </tr>\n",
       "    <tr>\n",
       "      <th>2</th>\n",
       "      <td>11002</td>\n",
       "      <td>2011-06-09</td>\n",
       "      <td>2013-08-02</td>\n",
       "    </tr>\n",
       "    <tr>\n",
       "      <th>3</th>\n",
       "      <td>11003</td>\n",
       "      <td>2011-05-31</td>\n",
       "      <td>2013-10-17</td>\n",
       "    </tr>\n",
       "    <tr>\n",
       "      <th>4</th>\n",
       "      <td>11004</td>\n",
       "      <td>2011-06-25</td>\n",
       "      <td>2013-10-08</td>\n",
       "    </tr>\n",
       "  </tbody>\n",
       "</table>\n",
       "</div>"
      ],
      "text/plain": [
       "   customerID  OrderDate   ShipDate\n",
       "0       11000 2011-06-21 2013-10-10\n",
       "1       11001 2011-06-17 2014-05-19\n",
       "2       11002 2011-06-09 2013-08-02\n",
       "3       11003 2011-05-31 2013-10-17\n",
       "4       11004 2011-06-25 2013-10-08"
      ]
     },
     "execution_count": 18,
     "metadata": {},
     "output_type": "execute_result"
    }
   ],
   "source": [
    "result.head()"
   ]
  },
  {
   "cell_type": "code",
   "execution_count": 19,
   "id": "e0029a71",
   "metadata": {},
   "outputs": [
    {
     "data": {
      "text/html": [
       "<div>\n",
       "<style scoped>\n",
       "    .dataframe tbody tr th:only-of-type {\n",
       "        vertical-align: middle;\n",
       "    }\n",
       "\n",
       "    .dataframe tbody tr th {\n",
       "        vertical-align: top;\n",
       "    }\n",
       "\n",
       "    .dataframe thead th {\n",
       "        text-align: right;\n",
       "    }\n",
       "</style>\n",
       "<table border=\"1\" class=\"dataframe\">\n",
       "  <thead>\n",
       "    <tr style=\"text-align: right;\">\n",
       "      <th></th>\n",
       "      <th>customerID</th>\n",
       "      <th>OrderDate</th>\n",
       "      <th>ShipDate</th>\n",
       "      <th>Product Category</th>\n",
       "    </tr>\n",
       "  </thead>\n",
       "  <tbody>\n",
       "    <tr>\n",
       "      <th>0</th>\n",
       "      <td>11000</td>\n",
       "      <td>2011-06-21</td>\n",
       "      <td>2013-10-10</td>\n",
       "      <td>Accessories</td>\n",
       "    </tr>\n",
       "    <tr>\n",
       "      <th>1</th>\n",
       "      <td>11000</td>\n",
       "      <td>2011-06-21</td>\n",
       "      <td>2013-10-10</td>\n",
       "      <td>Bikes</td>\n",
       "    </tr>\n",
       "    <tr>\n",
       "      <th>2</th>\n",
       "      <td>11000</td>\n",
       "      <td>2011-06-21</td>\n",
       "      <td>2013-10-10</td>\n",
       "      <td>Bikes</td>\n",
       "    </tr>\n",
       "    <tr>\n",
       "      <th>3</th>\n",
       "      <td>11000</td>\n",
       "      <td>2011-06-21</td>\n",
       "      <td>2013-10-10</td>\n",
       "      <td>Accessories</td>\n",
       "    </tr>\n",
       "    <tr>\n",
       "      <th>4</th>\n",
       "      <td>11000</td>\n",
       "      <td>2011-06-21</td>\n",
       "      <td>2013-10-10</td>\n",
       "      <td>Clothing</td>\n",
       "    </tr>\n",
       "  </tbody>\n",
       "</table>\n",
       "</div>"
      ],
      "text/plain": [
       "   customerID  OrderDate   ShipDate Product Category\n",
       "0       11000 2011-06-21 2013-10-10      Accessories\n",
       "1       11000 2011-06-21 2013-10-10            Bikes\n",
       "2       11000 2011-06-21 2013-10-10            Bikes\n",
       "3       11000 2011-06-21 2013-10-10      Accessories\n",
       "4       11000 2011-06-21 2013-10-10         Clothing"
      ]
     },
     "execution_count": 19,
     "metadata": {},
     "output_type": "execute_result"
    }
   ],
   "source": [
    "# We then merge this with the product category data frame\n",
    "result =pd.merge(result,category[['customerID','Product Category']],on='customerID',how='inner')\n",
    "result.head()"
   ]
  },
  {
   "cell_type": "code",
   "execution_count": 20,
   "id": "434f33a0",
   "metadata": {},
   "outputs": [],
   "source": [
    "survivor_analysis = pd.DataFrame(result)"
   ]
  },
  {
   "cell_type": "code",
   "execution_count": 21,
   "id": "6a77756f",
   "metadata": {},
   "outputs": [],
   "source": [
    "# Now to calculate the actual amount of time spent transacting with us\n",
    "survivor_analysis['months_between'] = (survivor_analysis['ShipDate'] - survivor_analysis['OrderDate']).dt.days // 30"
   ]
  },
  {
   "cell_type": "code",
   "execution_count": 22,
   "id": "b80e2c21",
   "metadata": {},
   "outputs": [
    {
     "name": "stdout",
     "output_type": "stream",
     "text": [
      "<class 'pandas.core.frame.DataFrame'>\n",
      "RangeIndex: 121317 entries, 0 to 121316\n",
      "Data columns (total 5 columns):\n",
      " #   Column            Non-Null Count   Dtype         \n",
      "---  ------            --------------   -----         \n",
      " 0   customerID        121317 non-null  int64         \n",
      " 1   OrderDate         121317 non-null  datetime64[ns]\n",
      " 2   ShipDate          121317 non-null  datetime64[ns]\n",
      " 3   Product Category  121317 non-null  object        \n",
      " 4   months_between    121317 non-null  int64         \n",
      "dtypes: datetime64[ns](2), int64(2), object(1)\n",
      "memory usage: 4.6+ MB\n"
     ]
    }
   ],
   "source": [
    "survivor_analysis.info()"
   ]
  },
  {
   "cell_type": "code",
   "execution_count": 23,
   "id": "d48e18cc",
   "metadata": {},
   "outputs": [
    {
     "data": {
      "text/html": [
       "<div>\n",
       "<style scoped>\n",
       "    .dataframe tbody tr th:only-of-type {\n",
       "        vertical-align: middle;\n",
       "    }\n",
       "\n",
       "    .dataframe tbody tr th {\n",
       "        vertical-align: top;\n",
       "    }\n",
       "\n",
       "    .dataframe thead th {\n",
       "        text-align: right;\n",
       "    }\n",
       "</style>\n",
       "<table border=\"1\" class=\"dataframe\">\n",
       "  <thead>\n",
       "    <tr style=\"text-align: right;\">\n",
       "      <th></th>\n",
       "      <th>customerID</th>\n",
       "      <th>OrderDate</th>\n",
       "      <th>ShipDate</th>\n",
       "      <th>Product Category</th>\n",
       "      <th>months_between</th>\n",
       "    </tr>\n",
       "  </thead>\n",
       "  <tbody>\n",
       "    <tr>\n",
       "      <th>0</th>\n",
       "      <td>11000</td>\n",
       "      <td>2011-06-21</td>\n",
       "      <td>2013-10-10</td>\n",
       "      <td>Accessories</td>\n",
       "      <td>28</td>\n",
       "    </tr>\n",
       "    <tr>\n",
       "      <th>1</th>\n",
       "      <td>11000</td>\n",
       "      <td>2011-06-21</td>\n",
       "      <td>2013-10-10</td>\n",
       "      <td>Bikes</td>\n",
       "      <td>28</td>\n",
       "    </tr>\n",
       "    <tr>\n",
       "      <th>2</th>\n",
       "      <td>11000</td>\n",
       "      <td>2011-06-21</td>\n",
       "      <td>2013-10-10</td>\n",
       "      <td>Bikes</td>\n",
       "      <td>28</td>\n",
       "    </tr>\n",
       "    <tr>\n",
       "      <th>3</th>\n",
       "      <td>11000</td>\n",
       "      <td>2011-06-21</td>\n",
       "      <td>2013-10-10</td>\n",
       "      <td>Accessories</td>\n",
       "      <td>28</td>\n",
       "    </tr>\n",
       "    <tr>\n",
       "      <th>4</th>\n",
       "      <td>11000</td>\n",
       "      <td>2011-06-21</td>\n",
       "      <td>2013-10-10</td>\n",
       "      <td>Clothing</td>\n",
       "      <td>28</td>\n",
       "    </tr>\n",
       "  </tbody>\n",
       "</table>\n",
       "</div>"
      ],
      "text/plain": [
       "   customerID  OrderDate   ShipDate Product Category  months_between\n",
       "0       11000 2011-06-21 2013-10-10      Accessories              28\n",
       "1       11000 2011-06-21 2013-10-10            Bikes              28\n",
       "2       11000 2011-06-21 2013-10-10            Bikes              28\n",
       "3       11000 2011-06-21 2013-10-10      Accessories              28\n",
       "4       11000 2011-06-21 2013-10-10         Clothing              28"
      ]
     },
     "execution_count": 23,
     "metadata": {},
     "output_type": "execute_result"
    }
   ],
   "source": [
    "survivor_analysis.head()"
   ]
  },
  {
   "cell_type": "code",
   "execution_count": 24,
   "id": "1a1a57fe",
   "metadata": {},
   "outputs": [
    {
     "data": {
      "text/plain": [
       "Timestamp('2014-07-07 00:00:00')"
      ]
     },
     "execution_count": 24,
     "metadata": {},
     "output_type": "execute_result"
    }
   ],
   "source": [
    "#checking the maximum ship date (for future use)\n",
    "survivor_analysis['ShipDate'].max()"
   ]
  },
  {
   "cell_type": "markdown",
   "id": "b542de07",
   "metadata": {},
   "source": [
    "The date above will then serve as the current date of our survival analysis because we assume that this is an ongoing business. It will also serve as a threshold to calculate customer churn. For this project we will be using anything above 6 months as churned. Simply put this means that any transaction which is more than 6 months before our final transaction/current date of 2014/07/07 will be regarded as churned."
   ]
  },
  {
   "cell_type": "code",
   "execution_count": 25,
   "id": "eccbb6d5",
   "metadata": {},
   "outputs": [
    {
     "name": "stdout",
     "output_type": "stream",
     "text": [
      "       customerID  Customer_Churn\n",
      "0           11000               1\n",
      "1           11001               0\n",
      "2           11002               1\n",
      "3           11003               1\n",
      "4           11004               1\n",
      "...           ...             ...\n",
      "19114       30114               0\n",
      "19115       30115               0\n",
      "19116       30116               0\n",
      "19117       30117               0\n",
      "19118       30118               0\n",
      "\n",
      "[19119 rows x 2 columns]\n"
     ]
    }
   ],
   "source": [
    "#Calculating Customer churn\n",
    "last_interaction_dates = survivor_analysis.groupby('customerID')['ShipDate'].last().reset_index()\n",
    "\n",
    "# Set the current date as '2014-07-07'\n",
    "current_date = pd.to_datetime('2014-07-07')\n",
    "\n",
    "# Calculate the difference in months between the last interaction date and the current date\n",
    "last_interaction_dates['months_since_last_interaction'] = (current_date - last_interaction_dates['ShipDate']).dt.days // 30\n",
    "\n",
    "# Create a new column indicating if the last interaction was more than 6 months ago\n",
    "last_interaction_dates['Customer_Churn'] = (last_interaction_dates['months_since_last_interaction'] > 6).astype(int)\n",
    "\n",
    "# Print the result\n",
    "print(last_interaction_dates[['customerID', 'Customer_Churn']])"
   ]
  },
  {
   "cell_type": "code",
   "execution_count": 26,
   "id": "957b371c",
   "metadata": {},
   "outputs": [],
   "source": [
    "#This is the final step in the data modelling where we merge all necessary\n",
    "#data frames and columns\n",
    "data=pd.merge(survivor_analysis,last_interaction_dates[['customerID','Customer_Churn']],on='customerID',how='inner')\n",
    "data = pd.merge(data,df[['customerID','MaritalStatus','Gender','Age','Gender','YearlyIncome']],on='customerID',how='inner')"
   ]
  },
  {
   "cell_type": "code",
   "execution_count": 28,
   "id": "4ae5b9a0",
   "metadata": {},
   "outputs": [
    {
     "data": {
      "text/html": [
       "<div>\n",
       "<style scoped>\n",
       "    .dataframe tbody tr th:only-of-type {\n",
       "        vertical-align: middle;\n",
       "    }\n",
       "\n",
       "    .dataframe tbody tr th {\n",
       "        vertical-align: top;\n",
       "    }\n",
       "\n",
       "    .dataframe thead th {\n",
       "        text-align: right;\n",
       "    }\n",
       "</style>\n",
       "<table border=\"1\" class=\"dataframe\">\n",
       "  <thead>\n",
       "    <tr style=\"text-align: right;\">\n",
       "      <th></th>\n",
       "      <th>customerID</th>\n",
       "      <th>OrderDate</th>\n",
       "      <th>ShipDate</th>\n",
       "      <th>Product Category</th>\n",
       "      <th>months_between</th>\n",
       "      <th>Customer_Churn</th>\n",
       "      <th>MaritalStatus</th>\n",
       "      <th>Gender</th>\n",
       "      <th>Age</th>\n",
       "      <th>Gender</th>\n",
       "      <th>YearlyIncome</th>\n",
       "    </tr>\n",
       "  </thead>\n",
       "  <tbody>\n",
       "    <tr>\n",
       "      <th>0</th>\n",
       "      <td>11000</td>\n",
       "      <td>2011-06-21</td>\n",
       "      <td>2013-10-10</td>\n",
       "      <td>Accessories</td>\n",
       "      <td>28</td>\n",
       "      <td>1</td>\n",
       "      <td>0</td>\n",
       "      <td>1</td>\n",
       "      <td>40</td>\n",
       "      <td>1</td>\n",
       "      <td>90000.0</td>\n",
       "    </tr>\n",
       "    <tr>\n",
       "      <th>1</th>\n",
       "      <td>11000</td>\n",
       "      <td>2011-06-21</td>\n",
       "      <td>2013-10-10</td>\n",
       "      <td>Accessories</td>\n",
       "      <td>28</td>\n",
       "      <td>1</td>\n",
       "      <td>0</td>\n",
       "      <td>1</td>\n",
       "      <td>42</td>\n",
       "      <td>1</td>\n",
       "      <td>90000.0</td>\n",
       "    </tr>\n",
       "    <tr>\n",
       "      <th>2</th>\n",
       "      <td>11000</td>\n",
       "      <td>2011-06-21</td>\n",
       "      <td>2013-10-10</td>\n",
       "      <td>Accessories</td>\n",
       "      <td>28</td>\n",
       "      <td>1</td>\n",
       "      <td>0</td>\n",
       "      <td>1</td>\n",
       "      <td>42</td>\n",
       "      <td>1</td>\n",
       "      <td>90000.0</td>\n",
       "    </tr>\n",
       "    <tr>\n",
       "      <th>3</th>\n",
       "      <td>11000</td>\n",
       "      <td>2011-06-21</td>\n",
       "      <td>2013-10-10</td>\n",
       "      <td>Accessories</td>\n",
       "      <td>28</td>\n",
       "      <td>1</td>\n",
       "      <td>0</td>\n",
       "      <td>1</td>\n",
       "      <td>42</td>\n",
       "      <td>1</td>\n",
       "      <td>90000.0</td>\n",
       "    </tr>\n",
       "    <tr>\n",
       "      <th>4</th>\n",
       "      <td>11000</td>\n",
       "      <td>2011-06-21</td>\n",
       "      <td>2013-10-10</td>\n",
       "      <td>Accessories</td>\n",
       "      <td>28</td>\n",
       "      <td>1</td>\n",
       "      <td>0</td>\n",
       "      <td>1</td>\n",
       "      <td>42</td>\n",
       "      <td>1</td>\n",
       "      <td>90000.0</td>\n",
       "    </tr>\n",
       "  </tbody>\n",
       "</table>\n",
       "</div>"
      ],
      "text/plain": [
       "   customerID  OrderDate   ShipDate Product Category  months_between  \\\n",
       "0       11000 2011-06-21 2013-10-10      Accessories              28   \n",
       "1       11000 2011-06-21 2013-10-10      Accessories              28   \n",
       "2       11000 2011-06-21 2013-10-10      Accessories              28   \n",
       "3       11000 2011-06-21 2013-10-10      Accessories              28   \n",
       "4       11000 2011-06-21 2013-10-10      Accessories              28   \n",
       "\n",
       "   Customer_Churn  MaritalStatus  Gender  Age  Gender  YearlyIncome  \n",
       "0               1              0       1   40       1       90000.0  \n",
       "1               1              0       1   42       1       90000.0  \n",
       "2               1              0       1   42       1       90000.0  \n",
       "3               1              0       1   42       1       90000.0  \n",
       "4               1              0       1   42       1       90000.0  "
      ]
     },
     "execution_count": 28,
     "metadata": {},
     "output_type": "execute_result"
    }
   ],
   "source": [
    "data.head()"
   ]
  },
  {
   "cell_type": "code",
   "execution_count": 29,
   "id": "13a99db1",
   "metadata": {},
   "outputs": [],
   "source": [
    "# Setup\n",
    "from lifelines import KaplanMeierFitter, CoxPHFitter "
   ]
  },
  {
   "cell_type": "code",
   "execution_count": 66,
   "id": "741f89bc",
   "metadata": {},
   "outputs": [
    {
     "data": {
      "text/html": [
       "<div>\n",
       "<style scoped>\n",
       "    .dataframe tbody tr th:only-of-type {\n",
       "        vertical-align: middle;\n",
       "    }\n",
       "\n",
       "    .dataframe tbody tr th {\n",
       "        vertical-align: top;\n",
       "    }\n",
       "\n",
       "    .dataframe thead th {\n",
       "        text-align: right;\n",
       "    }\n",
       "</style>\n",
       "<table border=\"1\" class=\"dataframe\">\n",
       "  <thead>\n",
       "    <tr style=\"text-align: right;\">\n",
       "      <th></th>\n",
       "      <th>customerID</th>\n",
       "      <th>OrderDate</th>\n",
       "      <th>ShipDate</th>\n",
       "      <th>Product Category</th>\n",
       "      <th>months_between</th>\n",
       "      <th>Customer_Churn</th>\n",
       "      <th>MaritalStatus</th>\n",
       "      <th>Gender</th>\n",
       "      <th>Age</th>\n",
       "      <th>Gender</th>\n",
       "      <th>YearlyIncome</th>\n",
       "    </tr>\n",
       "  </thead>\n",
       "  <tbody>\n",
       "    <tr>\n",
       "      <th>512</th>\n",
       "      <td>11001</td>\n",
       "      <td>2011-06-17</td>\n",
       "      <td>2014-05-19</td>\n",
       "      <td>Accessories</td>\n",
       "      <td>35</td>\n",
       "      <td>0</td>\n",
       "      <td>1</td>\n",
       "      <td>1</td>\n",
       "      <td>35</td>\n",
       "      <td>1</td>\n",
       "      <td>60000.0</td>\n",
       "    </tr>\n",
       "    <tr>\n",
       "      <th>513</th>\n",
       "      <td>11001</td>\n",
       "      <td>2011-06-17</td>\n",
       "      <td>2014-05-19</td>\n",
       "      <td>Accessories</td>\n",
       "      <td>35</td>\n",
       "      <td>0</td>\n",
       "      <td>1</td>\n",
       "      <td>1</td>\n",
       "      <td>37</td>\n",
       "      <td>1</td>\n",
       "      <td>60000.0</td>\n",
       "    </tr>\n",
       "    <tr>\n",
       "      <th>514</th>\n",
       "      <td>11001</td>\n",
       "      <td>2011-06-17</td>\n",
       "      <td>2014-05-19</td>\n",
       "      <td>Accessories</td>\n",
       "      <td>35</td>\n",
       "      <td>0</td>\n",
       "      <td>1</td>\n",
       "      <td>1</td>\n",
       "      <td>37</td>\n",
       "      <td>1</td>\n",
       "      <td>60000.0</td>\n",
       "    </tr>\n",
       "    <tr>\n",
       "      <th>515</th>\n",
       "      <td>11001</td>\n",
       "      <td>2011-06-17</td>\n",
       "      <td>2014-05-19</td>\n",
       "      <td>Accessories</td>\n",
       "      <td>35</td>\n",
       "      <td>0</td>\n",
       "      <td>1</td>\n",
       "      <td>1</td>\n",
       "      <td>37</td>\n",
       "      <td>1</td>\n",
       "      <td>60000.0</td>\n",
       "    </tr>\n",
       "    <tr>\n",
       "      <th>516</th>\n",
       "      <td>11001</td>\n",
       "      <td>2011-06-17</td>\n",
       "      <td>2014-05-19</td>\n",
       "      <td>Accessories</td>\n",
       "      <td>35</td>\n",
       "      <td>0</td>\n",
       "      <td>1</td>\n",
       "      <td>1</td>\n",
       "      <td>37</td>\n",
       "      <td>1</td>\n",
       "      <td>60000.0</td>\n",
       "    </tr>\n",
       "    <tr>\n",
       "      <th>...</th>\n",
       "      <td>...</td>\n",
       "      <td>...</td>\n",
       "      <td>...</td>\n",
       "      <td>...</td>\n",
       "      <td>...</td>\n",
       "      <td>...</td>\n",
       "      <td>...</td>\n",
       "      <td>...</td>\n",
       "      <td>...</td>\n",
       "      <td>...</td>\n",
       "      <td>...</td>\n",
       "    </tr>\n",
       "    <tr>\n",
       "      <th>5247510</th>\n",
       "      <td>29480</td>\n",
       "      <td>2013-12-17</td>\n",
       "      <td>2013-12-24</td>\n",
       "      <td>Bikes</td>\n",
       "      <td>0</td>\n",
       "      <td>0</td>\n",
       "      <td>1</td>\n",
       "      <td>0</td>\n",
       "      <td>36</td>\n",
       "      <td>0</td>\n",
       "      <td>30000.0</td>\n",
       "    </tr>\n",
       "    <tr>\n",
       "      <th>5247511</th>\n",
       "      <td>29480</td>\n",
       "      <td>2013-12-17</td>\n",
       "      <td>2013-12-24</td>\n",
       "      <td>Bikes</td>\n",
       "      <td>0</td>\n",
       "      <td>0</td>\n",
       "      <td>1</td>\n",
       "      <td>0</td>\n",
       "      <td>36</td>\n",
       "      <td>0</td>\n",
       "      <td>30000.0</td>\n",
       "    </tr>\n",
       "    <tr>\n",
       "      <th>5247512</th>\n",
       "      <td>29480</td>\n",
       "      <td>2013-12-17</td>\n",
       "      <td>2013-12-24</td>\n",
       "      <td>Bikes</td>\n",
       "      <td>0</td>\n",
       "      <td>0</td>\n",
       "      <td>1</td>\n",
       "      <td>0</td>\n",
       "      <td>36</td>\n",
       "      <td>0</td>\n",
       "      <td>30000.0</td>\n",
       "    </tr>\n",
       "    <tr>\n",
       "      <th>5247513</th>\n",
       "      <td>29480</td>\n",
       "      <td>2013-12-17</td>\n",
       "      <td>2013-12-24</td>\n",
       "      <td>Bikes</td>\n",
       "      <td>0</td>\n",
       "      <td>0</td>\n",
       "      <td>1</td>\n",
       "      <td>0</td>\n",
       "      <td>36</td>\n",
       "      <td>0</td>\n",
       "      <td>30000.0</td>\n",
       "    </tr>\n",
       "    <tr>\n",
       "      <th>5247514</th>\n",
       "      <td>29480</td>\n",
       "      <td>2013-12-17</td>\n",
       "      <td>2013-12-24</td>\n",
       "      <td>Bikes</td>\n",
       "      <td>0</td>\n",
       "      <td>0</td>\n",
       "      <td>1</td>\n",
       "      <td>0</td>\n",
       "      <td>36</td>\n",
       "      <td>0</td>\n",
       "      <td>30000.0</td>\n",
       "    </tr>\n",
       "  </tbody>\n",
       "</table>\n",
       "<p>4923185 rows × 11 columns</p>\n",
       "</div>"
      ],
      "text/plain": [
       "         customerID  OrderDate   ShipDate Product Category  months_between  \\\n",
       "512           11001 2011-06-17 2014-05-19      Accessories              35   \n",
       "513           11001 2011-06-17 2014-05-19      Accessories              35   \n",
       "514           11001 2011-06-17 2014-05-19      Accessories              35   \n",
       "515           11001 2011-06-17 2014-05-19      Accessories              35   \n",
       "516           11001 2011-06-17 2014-05-19      Accessories              35   \n",
       "...             ...        ...        ...              ...             ...   \n",
       "5247510       29480 2013-12-17 2013-12-24            Bikes               0   \n",
       "5247511       29480 2013-12-17 2013-12-24            Bikes               0   \n",
       "5247512       29480 2013-12-17 2013-12-24            Bikes               0   \n",
       "5247513       29480 2013-12-17 2013-12-24            Bikes               0   \n",
       "5247514       29480 2013-12-17 2013-12-24            Bikes               0   \n",
       "\n",
       "         Customer_Churn  MaritalStatus  Gender  Age  Gender  YearlyIncome  \n",
       "512                   0              1       1   35       1       60000.0  \n",
       "513                   0              1       1   37       1       60000.0  \n",
       "514                   0              1       1   37       1       60000.0  \n",
       "515                   0              1       1   37       1       60000.0  \n",
       "516                   0              1       1   37       1       60000.0  \n",
       "...                 ...            ...     ...  ...     ...           ...  \n",
       "5247510               0              1       0   36       0       30000.0  \n",
       "5247511               0              1       0   36       0       30000.0  \n",
       "5247512               0              1       0   36       0       30000.0  \n",
       "5247513               0              1       0   36       0       30000.0  \n",
       "5247514               0              1       0   36       0       30000.0  \n",
       "\n",
       "[4923185 rows x 11 columns]"
      ]
     },
     "execution_count": 66,
     "metadata": {},
     "output_type": "execute_result"
    }
   ],
   "source": [
    "data[data['Customer_Churn']==data['Customer_Churn'].isna()]"
   ]
  },
  {
   "cell_type": "markdown",
   "id": "ac21f087",
   "metadata": {},
   "source": [
    "# Kaplan Meier Plot"
   ]
  },
  {
   "cell_type": "code",
   "execution_count": 67,
   "id": "f4ccb487",
   "metadata": {},
   "outputs": [
    {
     "data": {
      "text/plain": [
       "Text(0, 0.5, 'Survival probability')"
      ]
     },
     "execution_count": 67,
     "metadata": {},
     "output_type": "execute_result"
    },
    {
     "data": {
      "image/png": "[encoded data removed]",
      "text/plain": [
       "<Figure size 864x432 with 1 Axes>"
      ]
     },
     "metadata": {
      "needs_background": "light"
     },
     "output_type": "display_data"
    }
   ],
   "source": [
    "#Kaplan meier plot\n",
    "kmf = KaplanMeierFitter()\n",
    "\n",
    "kmf.fit(data['months_between'], data['Customer_Churn'], label = 'Kaplan Meier Estimate, full sample')\n",
    "\n",
    "kmf.plot(linewidth=4, figsize=(12, 6))\n",
    "plt.title('Customer Churn: Kaplan-Meier Curve')\n",
    "plt.xlabel('Months')\n",
    "plt.ylabel('Survival probability')"
   ]
  },
  {
   "cell_type": "code",
   "execution_count": 68,
   "id": "1e34142c",
   "metadata": {},
   "outputs": [
    {
     "data": {
      "text/plain": [
       "<AxesSubplot:xlabel='timeline'>"
      ]
     },
     "execution_count": 68,
     "metadata": {},
     "output_type": "execute_result"
    },
    {
     "data": {
      "image/png": "[encoded data removed]",
      "text/plain": [
       "<Figure size 432x288 with 1 Axes>"
      ]
     },
     "metadata": {
      "needs_background": "light"
     },
     "output_type": "display_data"
    }
   ],
   "source": [
    "#Cumulative density plot\n",
    "kmf.plot_cumulative_density()"
   ]
  },
  {
   "cell_type": "markdown",
   "id": "534f5e63",
   "metadata": {},
   "source": [
    "# Section 3: Examining Variables\n",
    "\n",
    "As we continue to examine the survival function, we may want to relate survival risk with features, or characteristics of our customers. In this example, we will look at diffences in survival risk for customers who have only a single service, vs. customers with multiple services. We can start by plotting a simple histogram for each category, looking at differences between churned and not-churned subsamples."
   ]
  },
  {
   "cell_type": "code",
   "execution_count": 80,
   "id": "2f5683cb",
   "metadata": {},
   "outputs": [],
   "source": [
    "# Define variables by product category\n",
    "df1 = data[data['Product Category']=='Accessories']\n",
    "df2 = data[data['Product Category']=='Bikes']\n",
    "df3 = data[data['Product Category']=='Clothing']"
   ]
  },
  {
   "cell_type": "code",
   "execution_count": 85,
   "id": "b2661168",
   "metadata": {},
   "outputs": [
    {
     "data": {
      "text/plain": [
       "Text(0, 0.5, 'Survival probability')"
      ]
     },
     "execution_count": 85,
     "metadata": {},
     "output_type": "execute_result"
    },
    {
     "data": {
      "image/png": "[encoded data removed]",
      "text/plain": [
       "<Figure size 864x432 with 1 Axes>"
      ]
     },
     "metadata": {
      "needs_background": "light"
     },
     "output_type": "display_data"
    }
   ],
   "source": [
    "# We can see differences across these groups, let's examing Kaplan-Meier curves for various subsamples. \n",
    "# This involves fitting the Kaplan Meier estimator separately for each subsample. \n",
    "\n",
    "kmf.fit(df1['months_between'], df1['Customer_Churn'])\n",
    "kmf.plot(label='Accesories', figsize=(12, 6),color = 'blue')\n",
    "kmf.fit(df2['months_between'], df2['Customer_Churn'])\n",
    "kmf.plot(label='Bikes',figsize=(12,6),color = 'red')\n",
    "kmf.fit(df3['months_between'], df3['Customer_Churn'])\n",
    "kmf.plot(label='Clothing', figsize=(12, 6),color='black')\n",
    "plt.title('Number of categories and Churn: Kaplan-Meier Curve')\n",
    "plt.xlabel('Months')\n",
    "plt.ylabel('Survival probability')"
   ]
  },
  {
   "cell_type": "markdown",
   "id": "b0371654",
   "metadata": {},
   "source": [
    " # Section 4: Cox Proportional Hazards Model\n",
    "\n",
    "Having looked at our data and related Kaplan-Meier curves, we can formalize the analysis by running survival regression. There are several available models here, documented in the Python [lifelines](https://lifelines.readthedocs.io/en/latest/) module. As we discussed in the course, the Cox model estimates a baseline hazard rate, and assumes features impact this hazard rate proportionally. While this is a strong assumption (and may not be true in general), the model still provides insight into the role of features and their importance impacting survival risk. Let's begin by setting data up for the Cox survival regression.\n",
    "\n",
    "#### Cox Proportional Hazard Model assumptions include\n",
    "1. Independence of survival times between distinct individuals in the sample\n",
    "2. A multiplicative relationship between the predictors and the hazard\n",
    "3. A constant hazard ratio over time. This assumption implies that, the hazard curves for the groups should be proportional and cannot cross. \n",
    "\n",
    "#### Hazard and Hazard Ratio\n",
    "1. Hazard is defined as the slope of the survival curve. A measure of how rapidly subjects are dying.\n",
    "2. The hazard ratio compares two treatments. If the hazard ratio is 2.0, then the rate of deaths in one treatment group is twice the rate in the other group."
   ]
  },
  {
   "cell_type": "code",
   "execution_count": 73,
   "id": "0224e377",
   "metadata": {},
   "outputs": [],
   "source": [
    "# We begin by carrying out a little data modeling specificly for the model we are tring to create\n",
    "\n",
    "dfu = data[['Product Category', 'Customer_Churn','months_between','Age','MaritalStatus','YearlyIncome']]\n",
    "product_cat_dummies = pd.get_dummies(dfu['Product Category'],drop_first=True,dtype='int')\n",
    "\n",
    "product_cat_dummies\n",
    "\n",
    "dfu = dfu.drop('Product Category',axis=1)\n",
    "dfd=pd.concat([dfu,product_cat_dummies],axis=1)"
   ]
  },
  {
   "cell_type": "code",
   "execution_count": 74,
   "id": "2392ea6e",
   "metadata": {},
   "outputs": [
    {
     "data": {
      "text/plain": [
       "Customer_Churn    0\n",
       "months_between    0\n",
       "Age               0\n",
       "MaritalStatus     0\n",
       "YearlyIncome      0\n",
       "Bikes             0\n",
       "Clothing          0\n",
       "dtype: int64"
      ]
     },
     "execution_count": 74,
     "metadata": {},
     "output_type": "execute_result"
    }
   ],
   "source": [
    "dfd.isna().sum()"
   ]
  },
  {
   "cell_type": "code",
   "execution_count": 75,
   "id": "a6679599",
   "metadata": {},
   "outputs": [
    {
     "data": {
      "text/html": [
       "<div>\n",
       "<style scoped>\n",
       "    .dataframe tbody tr th:only-of-type {\n",
       "        vertical-align: middle;\n",
       "    }\n",
       "\n",
       "    .dataframe tbody tr th {\n",
       "        vertical-align: top;\n",
       "    }\n",
       "\n",
       "    .dataframe thead th {\n",
       "        text-align: right;\n",
       "    }\n",
       "</style>\n",
       "<table border=\"1\" class=\"dataframe\">\n",
       "  <thead>\n",
       "    <tr style=\"text-align: right;\">\n",
       "      <th></th>\n",
       "      <th>Customer_Churn</th>\n",
       "      <th>months_between</th>\n",
       "      <th>Age</th>\n",
       "      <th>MaritalStatus</th>\n",
       "      <th>YearlyIncome</th>\n",
       "      <th>Bikes</th>\n",
       "      <th>Clothing</th>\n",
       "    </tr>\n",
       "  </thead>\n",
       "  <tbody>\n",
       "    <tr>\n",
       "      <th>0</th>\n",
       "      <td>1</td>\n",
       "      <td>28</td>\n",
       "      <td>40</td>\n",
       "      <td>0</td>\n",
       "      <td>90000.0</td>\n",
       "      <td>0</td>\n",
       "      <td>0</td>\n",
       "    </tr>\n",
       "    <tr>\n",
       "      <th>1</th>\n",
       "      <td>1</td>\n",
       "      <td>28</td>\n",
       "      <td>42</td>\n",
       "      <td>0</td>\n",
       "      <td>90000.0</td>\n",
       "      <td>0</td>\n",
       "      <td>0</td>\n",
       "    </tr>\n",
       "    <tr>\n",
       "      <th>2</th>\n",
       "      <td>1</td>\n",
       "      <td>28</td>\n",
       "      <td>42</td>\n",
       "      <td>0</td>\n",
       "      <td>90000.0</td>\n",
       "      <td>0</td>\n",
       "      <td>0</td>\n",
       "    </tr>\n",
       "    <tr>\n",
       "      <th>3</th>\n",
       "      <td>1</td>\n",
       "      <td>28</td>\n",
       "      <td>42</td>\n",
       "      <td>0</td>\n",
       "      <td>90000.0</td>\n",
       "      <td>0</td>\n",
       "      <td>0</td>\n",
       "    </tr>\n",
       "    <tr>\n",
       "      <th>4</th>\n",
       "      <td>1</td>\n",
       "      <td>28</td>\n",
       "      <td>42</td>\n",
       "      <td>0</td>\n",
       "      <td>90000.0</td>\n",
       "      <td>0</td>\n",
       "      <td>0</td>\n",
       "    </tr>\n",
       "  </tbody>\n",
       "</table>\n",
       "</div>"
      ],
      "text/plain": [
       "   Customer_Churn  months_between  Age  MaritalStatus  YearlyIncome  Bikes  \\\n",
       "0               1              28   40              0       90000.0      0   \n",
       "1               1              28   42              0       90000.0      0   \n",
       "2               1              28   42              0       90000.0      0   \n",
       "3               1              28   42              0       90000.0      0   \n",
       "4               1              28   42              0       90000.0      0   \n",
       "\n",
       "   Clothing  \n",
       "0         0  \n",
       "1         0  \n",
       "2         0  \n",
       "3         0  \n",
       "4         0  "
      ]
     },
     "execution_count": 75,
     "metadata": {},
     "output_type": "execute_result"
    }
   ],
   "source": [
    "dfd.head()"
   ]
  },
  {
   "cell_type": "markdown",
   "id": "4e4912d9",
   "metadata": {},
   "source": [
    "Now, let's fit a Cox proportional hazard model using other variables."
   ]
  },
  {
   "cell_type": "code",
   "execution_count": 76,
   "id": "dc509715",
   "metadata": {},
   "outputs": [
    {
     "name": "stdout",
     "output_type": "stream",
     "text": [
      "<lifelines.CoxPHFitter: fitted with 5.24752e+06 total observations, 4.92318e+06 right-censored observations>\n",
      "             duration col = 'months_between'\n",
      "                event col = 'Customer_Churn'\n",
      "      baseline estimation = breslow\n",
      "   number of observations = 5.24752e+06\n",
      "number of events observed = 324333\n",
      "   partial log-likelihood = -4638962.27\n",
      "         time fit was run = 2024-02-06 08:47:05 UTC\n",
      "\n",
      "---\n",
      "               coef exp(coef)  se(coef)  coef lower 95%  coef upper 95% exp(coef) lower 95% exp(coef) upper 95%\n",
      "covariate                                                                                                      \n",
      "Age           -0.02      0.98      0.00           -0.02           -0.02                0.98                0.98\n",
      "MaritalStatus  0.28      1.32      0.00            0.27            0.29                1.31                1.33\n",
      "YearlyIncome  -0.00      1.00      0.00           -0.00           -0.00                1.00                1.00\n",
      "Bikes          0.65      1.92      0.00            0.64            0.66                1.90                1.94\n",
      "Clothing       0.11      1.12      0.01            0.10            0.12                1.11                1.13\n",
      "\n",
      "               cmp to      z      p  -log2(p)\n",
      "covariate                                    \n",
      "Age              0.00 -98.41 <0.005       inf\n",
      "MaritalStatus    0.00  76.23 <0.005       inf\n",
      "YearlyIncome     0.00 -91.50 <0.005       inf\n",
      "Bikes            0.00 140.75 <0.005       inf\n",
      "Clothing         0.00  21.97 <0.005    353.05\n",
      "---\n",
      "Concordance = 0.68\n",
      "Partial AIC = 9277934.55\n",
      "log-likelihood ratio test = 59104.24 on 5 df\n",
      "-log2(p) of ll-ratio test = inf\n",
      "\n"
     ]
    }
   ],
   "source": [
    "cph = CoxPHFitter()\n",
    "cph.fit(dfd, duration_col='months_between',event_col='Customer_Churn')\n",
    "cph.print_summary(style='ascii')"
   ]
  },
  {
   "cell_type": "code",
   "execution_count": 77,
   "id": "02337371",
   "metadata": {},
   "outputs": [
    {
     "data": {
      "text/plain": [
       "<AxesSubplot:xlabel='log(HR) (95% CI)'>"
      ]
     },
     "execution_count": 77,
     "metadata": {},
     "output_type": "execute_result"
    },
    {
     "data": {
      "image/png": "[encoded data removed]",
      "text/plain": [
       "<Figure size 432x288 with 1 Axes>"
      ]
     },
     "metadata": {
      "needs_background": "light"
     },
     "output_type": "display_data"
    }
   ],
   "source": [
    "cph.plot()"
   ]
  },
  {
   "cell_type": "code",
   "execution_count": 78,
   "id": "0cb0ec4a",
   "metadata": {},
   "outputs": [
    {
     "data": {
      "text/plain": [
       "<AxesSubplot:>"
      ]
     },
     "execution_count": 78,
     "metadata": {},
     "output_type": "execute_result"
    },
    {
     "data": {
      "image/png": "[encoded data removed]",
      "text/plain": [
       "<Figure size 432x288 with 1 Axes>"
      ]
     },
     "metadata": {
      "needs_background": "light"
     },
     "output_type": "display_data"
    }
   ],
   "source": [
    "cph.plot_partial_effects_on_outcome(covariates = 'Age',\n",
    "                                   values = [30,40,50,60],\n",
    "                                   cmap = 'coolwarm')"
   ]
  },
  {
   "cell_type": "markdown",
   "id": "7d9c7e04",
   "metadata": {},
   "source": [
    "# Model Summary"
   ]
  },
  {
   "cell_type": "markdown",
   "id": "f3251807",
   "metadata": {},
   "source": [
    "This Cox Proportional Hazards (CPH) model has been fitted to analyze the time until customers churn. Here's how to interpret the results:\n",
    "\n",
    "1. **Baseline Estimation**:\n",
    "   - Baseline estimation method used is Breslow.\n",
    "   - This method is a common approach for handling ties in survival analysis.\n",
    "\n",
    "2. **Number of Observations**:\n",
    "   - Total observations in the dataset: 5,247,520.\n",
    "   - Right-censored observations: 4,923,180.\n",
    "   - Right-censored observations imply instances where the event (churn) did not occur within the observation period.\n",
    "\n",
    "3. **Model Fit Statistics**:\n",
    "   - Partial log-likelihood: -4,638,962.27.\n",
    "   - The time the fit was run: February 6, 2024, at 08:47:05 UTC.\n",
    "\n",
    "4. **Coefficients**:\n",
    "   - Coefficients represent the effect of each covariate on the hazard rate (risk of churn).\n",
    "   - \"coef\" is the coefficient estimate.\n",
    "   - \"exp(coef)\" is the hazard ratio (exponential of the coefficient).\n",
    "   - \"se(coef)\" is the standard error of the coefficient estimate.\n",
    "   - \"coef lower 95%\" and \"coef upper 95%\" represent the lower and upper bounds of the 95% confidence interval for the coefficient estimate.\n",
    "   - \"exp(coef) lower 95%\" and \"exp(coef) upper 95%\" are the corresponding bounds for the hazard ratio.\n",
    "\n",
    "5. **Comparisons**:\n",
    "   - \"cmp to\" indicates the comparison group for each covariate.\n",
    "   - \"z\" is the z-score, a measure of how many standard deviations an element is from the mean.\n",
    "   - \"p\" is the p-value associated with each coefficient.\n",
    "   - \"-log2(p)\" provides the significance of each coefficient.\n",
    "\n",
    "6. **Concordance**:\n",
    "   - Concordance measures the predictive power of the model.\n",
    "   - A concordance index of 0.68 indicates moderate predictive ability.\n",
    "\n",
    "7. **Partial AIC**:\n",
    "   - Partial AIC is the Akaike Information Criterion for model comparison.\n",
    "   - Lower values indicate better model fit.\n",
    "\n",
    "8. **Log-likelihood Ratio Test**:\n",
    "   - A test comparing the fit of the current model to a null model.\n",
    "   - The test statistic is 59,104.24 on 5 degrees of freedom (df).\n",
    "   - \"-log2(p)\" indicates the significance of the test, which appears to be highly significant (inf).\n",
    "\n",
    "**Interpretation**:\n",
    "- Age, MaritalStatus, YearlyIncome, Bikes, and Clothing variables all have statistically significant effects on the hazard rate (churn risk).\n",
    "- For example, as the number of Bikes increases, the hazard rate increases by a factor of approximately 1.92, holding other variables constant.\n",
    "- Clothing seems to have a smaller effect compared to other variables, but it's still statistically significant.\n",
    "- The model has a moderate predictive ability, as indicated by the Concordance index.\n",
    "\n",
    "Overall, this model suggests that factors such as age, marital status, income, and purchasing behavior (Bikes and Clothing) significantly influence the time until customers churn. Further analysis and validation may be needed to refine the model and its predictions."
   ]
  },
  {
   "cell_type": "markdown",
   "id": "725aa1e4",
   "metadata": {},
   "source": [
    "Certainly! Let's provide specific insights on each variable:\n",
    "\n",
    "1. **Age**:\n",
    "   - Coefficient (coef): -0.02\n",
    "   - Hazard Ratio (exp(coef)): 0.98\n",
    "   - Interpretation: For each one-unit increase in age, the hazard rate (risk of churn) decreases by approximately 2%. In other words, older customers are slightly less likely to churn compared to younger customers, holding other variables constant.\n",
    "\n",
    "2. **MaritalStatus**:\n",
    "   - Coefficient (coef): 0.28\n",
    "   - Hazard Ratio (exp(coef)): 1.32\n",
    "   - Interpretation: Customers who are single have a 32% higher hazard rate (risk of churn) compared to those in the reference category (assuming all else is constant).\n",
    "\n",
    "3. **YearlyIncome**:\n",
    "   - Coefficient (coef): -0.00\n",
    "   - Hazard Ratio (exp(coef)): 1.00\n",
    "   - Interpretation: There is no significant effect of yearly income on the hazard rate (risk of churn). The hazard ratio of 1.00 indicates that there is no change in the churn risk associated with changes in yearly income, holding other variables constant.\n",
    "\n",
    "4. **Bikes**:\n",
    "   - Coefficient (coef): 0.65\n",
    "   - Hazard Ratio (exp(coef)): 1.92\n",
    "   - Interpretation: For each additional unit of Bikes purchased, the hazard rate (risk of churn) increases by approximately 92%. This suggests that customers who purchase more bikes are almost twice as likely to churn compared to those who purchase fewer bikes, holding other variables constant.\n",
    "\n",
    "5. **Clothing**:\n",
    "   - Coefficient (coef): 0.11\n",
    "   - Hazard Ratio (exp(coef)): 1.12\n",
    "   - Interpretation: For each additional unit of Clothing purchased, the hazard rate (risk of churn) increases by approximately 12%. While statistically significant, the effect of Clothing purchases on churn risk is relatively small compared to other variables.\n",
    "\n",
    "These insights provide a clear understanding of how each variable influences the likelihood of customer churn. Age, MaritalStatus, Bikes, and Clothing purchases all show significant effects on churn risk, while YearlyIncome does not seem to have a significant impact in this model."
   ]
  }
 ],
 "metadata": {
  "kernelspec": {
   "display_name": "Python 3 (ipykernel)",
   "language": "python",
   "name": "python3"
  },
  "language_info": {
   "codemirror_mode": {
    "name": "ipython",
    "version": 3
   },
   "file_extension": ".py",
   "mimetype": "text/x-python",
   "name": "python",
   "nbconvert_exporter": "python",
   "pygments_lexer": "ipython3",
   "version": "3.9.12"
  }
 },
 "nbformat": 4,
 "nbformat_minor": 5
}
